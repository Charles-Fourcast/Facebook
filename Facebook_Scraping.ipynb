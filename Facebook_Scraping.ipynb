{
 "cells": [
  {
   "cell_type": "markdown",
   "metadata": {},
   "source": [
    "## PARAMETERS"
   ]
  },
  {
   "cell_type": "code",
   "execution_count": 52,
   "metadata": {
    "collapsed": true
   },
   "outputs": [],
   "source": [
    "user_id = \"64916754\"                           # Define your account id         \n",
    "age = \"-\".join([\"18\"])                         # Define the age range - has to be defined                 \n",
    "custom_audiences = \"-\".join([\"6083000038301\"])        # Define the custom audience id"
   ]
  },
  {
   "cell_type": "markdown",
   "metadata": {},
   "source": [
    "## IMPORT LIBRARIES"
   ]
  },
  {
   "cell_type": "code",
   "execution_count": 47,
   "metadata": {
    "collapsed": true
   },
   "outputs": [],
   "source": [
    "import base64\n",
    "from string import ascii_letters, digits, punctuation, printable\n",
    "from IPython.display import Image, display, HTML\n",
    "from time import sleep\n",
    "from collections import Counter\n",
    "from selenium import webdriver\n",
    "from selenium.webdriver.common.by import By\n",
    "from bs4 import BeautifulSoup\n",
    "from copy import copy\n",
    "import requests\n",
    "import json\n",
    "import os\n",
    "import platform\n",
    "from datetime import datetime\n",
    "import numpy as np\n",
    "import pandas as pd\n",
    "from ast import literal_eval\n",
    "from requests import get"
   ]
  },
  {
   "cell_type": "markdown",
   "metadata": {},
   "source": [
    "## START SCRAPING"
   ]
  },
  {
   "cell_type": "code",
   "execution_count": 237,
   "metadata": {
    "collapsed": true
   },
   "outputs": [],
   "source": [
    "# start the Chrome driver\n",
    "driver = webdriver.Chrome()"
   ]
  },
  {
   "cell_type": "code",
   "execution_count": 239,
   "metadata": {},
   "outputs": [],
   "source": [
    "with open('face_cred.json') as f:\n",
    "    data = json.load(f)\n",
    "    username = data['username']\n",
    "    password = data['password']"
   ]
  },
  {
   "cell_type": "code",
   "execution_count": 240,
   "metadata": {
    "collapsed": true
   },
   "outputs": [],
   "source": [
    "# function to log in on your instagram account\n",
    "def login_facebook(driver, username, password):\n",
    "    \n",
    "    driver.get(\"https://www.facebook.com/\")\n",
    "    \n",
    "    login_cred = driver.find_elements_by_class_name(\"inputtext\")\n",
    "    \n",
    "    login_cred[0].send_keys(username)\n",
    "    login_cred[1].send_keys(password)\n",
    "    \n",
    "    login_button = driver.find_element(by=By.ID, value=\"loginbutton\")\n",
    "    \n",
    "    login_button.click()"
   ]
  },
  {
   "cell_type": "code",
   "execution_count": 241,
   "metadata": {},
   "outputs": [],
   "source": [
    "login_facebook(driver, username, password)"
   ]
  },
  {
   "cell_type": "code",
   "execution_count": 242,
   "metadata": {
    "collapsed": true
   },
   "outputs": [],
   "source": [
    "driver.get(\"https://www.facebook.com/ads/audience-insights/people?act=\"\\\n",
    "           + user_id + \"&age=\" + age + \"-&custom_audiences=\" + custom_audiences)"
   ]
  },
  {
   "cell_type": "code",
   "execution_count": 122,
   "metadata": {},
   "outputs": [
    {
     "name": "stdout",
     "output_type": "stream",
     "text": [
      "Audience Insights\n"
     ]
    }
   ],
   "source": [
    "print(driver.title)"
   ]
  },
  {
   "cell_type": "code",
   "execution_count": 123,
   "metadata": {},
   "outputs": [],
   "source": [
    "percent_gender_data = driver.find_elements_by_class_name(\"_kdk\")\n",
    "percent_data_woman = int(percent_gender_data[0].text[:2])\n",
    "percent_data_man = int(percent_gender_data[1].text[:2])"
   ]
  },
  {
   "cell_type": "code",
   "execution_count": 124,
   "metadata": {
    "collapsed": true
   },
   "outputs": [],
   "source": [
    "percent_gender_whole = driver.find_elements_by_class_name(\"_5n4z\")\n",
    "percent_whole_women = int(percent_gender_whole[0].text[:2])\n",
    "percent_whole_men = int(percent_gender_whole[1].text[:2])"
   ]
  },
  {
   "cell_type": "code",
   "execution_count": 126,
   "metadata": {
    "collapsed": true
   },
   "outputs": [],
   "source": [
    "education_relationship = driver.find_elements_by_class_name(\"_5tt6\")"
   ]
  },
  {
   "cell_type": "code",
   "execution_count": 127,
   "metadata": {},
   "outputs": [
    {
     "data": {
      "text/plain": [
       "'Single\\nIn a Relationship\\nEngaged\\nMarried\\n-34%+45%-100%+23%'"
      ]
     },
     "execution_count": 127,
     "metadata": {},
     "output_type": "execute_result"
    }
   ],
   "source": [
    "education_relationship[0].text"
   ]
  },
  {
   "cell_type": "code",
   "execution_count": 129,
   "metadata": {
    "collapsed": true
   },
   "outputs": [],
   "source": [
    "# get the base64 representation of the canvas image (the part substring(21) is for removing the padding \"data:image/png;base64\")\n",
    "base64_image = driver.execute_script(\"return document.querySelectorAll('canvas')[0].\\\n",
    "toDataURL('image/png').substring(21);\")\n",
    "base64_image_1 = driver.execute_script(\"return document.querySelectorAll('canvas')[1].\\\n",
    "toDataURL('image/png').substring(21);\")\n",
    "base64_image_2 = driver.execute_script(\"return document.querySelectorAll('canvas')[2].\\\n",
    "toDataURL('image/png').substring(21);\")\n",
    "\n",
    "# decode the base64 image\n",
    "output_image = base64.b64decode(base64_image)\n",
    "output_image_1 = base64.b64decode(base64_image_1)\n",
    "output_image_2 = base64.b64decode(base64_image_2)\n",
    "\n",
    "# save to the output image\n",
    "with open(\"image.png\", 'wb') as f:\n",
    "   f.write(output_image)\n",
    "with open(\"image_1.png\", 'wb') as f:\n",
    "   f.write(output_image_1)\n",
    "with open(\"image_2.png\", 'wb') as f:\n",
    "   f.write(output_image_2)"
   ]
  },
  {
   "cell_type": "code",
   "execution_count": 130,
   "metadata": {
    "collapsed": true
   },
   "outputs": [],
   "source": [
    "import io\n",
    "import os\n",
    "\n",
    "# Imports the Google Cloud client library\n",
    "from google.cloud import vision\n",
    "from google.cloud.vision import types\n",
    "\n",
    "GOOGLE_APPLICATION_CREDENTIALS = \"/home/charly/Downloads/Training-afd38eccfc75.json\"\n",
    "\n",
    "client = vision.ImageAnnotatorClient()"
   ]
  },
  {
   "cell_type": "markdown",
   "metadata": {},
   "source": [
    "## Demographics - Age and Gender chart"
   ]
  },
  {
   "cell_type": "code",
   "execution_count": 358,
   "metadata": {
    "collapsed": true
   },
   "outputs": [],
   "source": [
    "file_name = os.path.join(os.path.dirname('__file__'),'/home/charly/Desktop/Facebook Scraping/image.png')"
   ]
  },
  {
   "cell_type": "code",
   "execution_count": 359,
   "metadata": {
    "collapsed": true
   },
   "outputs": [],
   "source": [
    "with io.open(file_name, 'rb') as image_file:\n",
    "    content = image_file.read()\n",
    "image = types.Image(content=content)\n",
    "response = client.text_detection(image=image)\n",
    "texts = response.text_annotations"
   ]
  },
  {
   "cell_type": "code",
   "execution_count": 360,
   "metadata": {},
   "outputs": [
    {
     "data": {
      "text/plain": [
       "[locale: \"en\"\n",
       "description: \"100%\\n0%\\n0%\\n0%\\n0%\\n65+\\n0%\\n0%\\n18-24\\n25 -34\\n35-44\\n45-54\\n55-64\\n20%\\n20%\\n0%\\n20%\\n4096\\n\"\n",
       "bounding_poly {\n",
       "  vertices {\n",
       "    x: 28\n",
       "    y: 2\n",
       "  }\n",
       "  vertices {\n",
       "    x: 568\n",
       "    y: 2\n",
       "  }\n",
       "  vertices {\n",
       "    x: 568\n",
       "    y: 189\n",
       "  }\n",
       "  vertices {\n",
       "    x: 28\n",
       "    y: 189\n",
       "  }\n",
       "}\n",
       ", description: \"100\"\n",
       "bounding_poly {\n",
       "  vertices {\n",
       "    x: 339\n",
       "    y: 2\n",
       "  }\n",
       "  vertices {\n",
       "    x: 357\n",
       "    y: 2\n",
       "  }\n",
       "  vertices {\n",
       "    x: 357\n",
       "    y: 11\n",
       "  }\n",
       "  vertices {\n",
       "    x: 339\n",
       "    y: 11\n",
       "  }\n",
       "}\n",
       ", description: \"%\"\n",
       "bounding_poly {\n",
       "  vertices {\n",
       "    x: 358\n",
       "    y: 2\n",
       "  }\n",
       "  vertices {\n",
       "    x: 368\n",
       "    y: 2\n",
       "  }\n",
       "  vertices {\n",
       "    x: 368\n",
       "    y: 10\n",
       "  }\n",
       "  vertices {\n",
       "    x: 358\n",
       "    y: 10\n",
       "  }\n",
       "}\n",
       ", description: \"0%\"\n",
       "bounding_poly {\n",
       "  vertices {\n",
       "    x: 35\n",
       "    y: 67\n",
       "  }\n",
       "  vertices {\n",
       "    x: 50\n",
       "    y: 67\n",
       "  }\n",
       "  vertices {\n",
       "    x: 50\n",
       "    y: 76\n",
       "  }\n",
       "  vertices {\n",
       "    x: 35\n",
       "    y: 76\n",
       "  }\n",
       "}\n",
       ", description: \"0%\"\n",
       "bounding_poly {\n",
       "  vertices {\n",
       "    x: 138\n",
       "    y: 67\n",
       "  }\n",
       "  vertices {\n",
       "    x: 153\n",
       "    y: 67\n",
       "  }\n",
       "  vertices {\n",
       "    x: 153\n",
       "    y: 76\n",
       "  }\n",
       "  vertices {\n",
       "    x: 138\n",
       "    y: 76\n",
       "  }\n",
       "}\n",
       ", description: \"0%\"\n",
       "bounding_poly {\n",
       "  vertices {\n",
       "    x: 241\n",
       "    y: 76\n",
       "  }\n",
       "  vertices {\n",
       "    x: 256\n",
       "    y: 76\n",
       "  }\n",
       "  vertices {\n",
       "    x: 256\n",
       "    y: 85\n",
       "  }\n",
       "  vertices {\n",
       "    x: 241\n",
       "    y: 85\n",
       "  }\n",
       "}\n",
       ", description: \"0%\"\n",
       "bounding_poly {\n",
       "  vertices {\n",
       "    x: 551\n",
       "    y: 90\n",
       "  }\n",
       "  vertices {\n",
       "    x: 566\n",
       "    y: 90\n",
       "  }\n",
       "  vertices {\n",
       "    x: 566\n",
       "    y: 99\n",
       "  }\n",
       "  vertices {\n",
       "    x: 551\n",
       "    y: 99\n",
       "  }\n",
       "}\n",
       ", description: \"65+\"\n",
       "bounding_poly {\n",
       "  vertices {\n",
       "    x: 549\n",
       "    y: 120\n",
       "  }\n",
       "  vertices {\n",
       "    x: 567\n",
       "    y: 118\n",
       "  }\n",
       "  vertices {\n",
       "    x: 568\n",
       "    y: 126\n",
       "  }\n",
       "  vertices {\n",
       "    x: 550\n",
       "    y: 128\n",
       "  }\n",
       "}\n",
       ", description: \"0%\"\n",
       "bounding_poly {\n",
       "  vertices {\n",
       "    x: 551\n",
       "    y: 149\n",
       "  }\n",
       "  vertices {\n",
       "    x: 566\n",
       "    y: 149\n",
       "  }\n",
       "  vertices {\n",
       "    x: 566\n",
       "    y: 158\n",
       "  }\n",
       "  vertices {\n",
       "    x: 551\n",
       "    y: 158\n",
       "  }\n",
       "}\n",
       ", description: \"0%\"\n",
       "bounding_poly {\n",
       "  vertices {\n",
       "    x: 448\n",
       "    y: 90\n",
       "  }\n",
       "  vertices {\n",
       "    x: 463\n",
       "    y: 90\n",
       "  }\n",
       "  vertices {\n",
       "    x: 463\n",
       "    y: 99\n",
       "  }\n",
       "  vertices {\n",
       "    x: 448\n",
       "    y: 99\n",
       "  }\n",
       "}\n",
       ", description: \"18-24\"\n",
       "bounding_poly {\n",
       "  vertices {\n",
       "    x: 28\n",
       "    y: 119\n",
       "  }\n",
       "  vertices {\n",
       "    x: 58\n",
       "    y: 119\n",
       "  }\n",
       "  vertices {\n",
       "    x: 58\n",
       "    y: 127\n",
       "  }\n",
       "  vertices {\n",
       "    x: 28\n",
       "    y: 127\n",
       "  }\n",
       "}\n",
       ", description: \"25\"\n",
       "bounding_poly {\n",
       "  vertices {\n",
       "    x: 131\n",
       "    y: 120\n",
       "  }\n",
       "  vertices {\n",
       "    x: 141\n",
       "    y: 120\n",
       "  }\n",
       "  vertices {\n",
       "    x: 141\n",
       "    y: 128\n",
       "  }\n",
       "  vertices {\n",
       "    x: 131\n",
       "    y: 128\n",
       "  }\n",
       "}\n",
       ", description: \"-34\"\n",
       "bounding_poly {\n",
       "  vertices {\n",
       "    x: 142\n",
       "    y: 120\n",
       "  }\n",
       "  vertices {\n",
       "    x: 161\n",
       "    y: 120\n",
       "  }\n",
       "  vertices {\n",
       "    x: 161\n",
       "    y: 128\n",
       "  }\n",
       "  vertices {\n",
       "    x: 142\n",
       "    y: 128\n",
       "  }\n",
       "}\n",
       ", description: \"35-44\"\n",
       "bounding_poly {\n",
       "  vertices {\n",
       "    x: 235\n",
       "    y: 120\n",
       "  }\n",
       "  vertices {\n",
       "    x: 264\n",
       "    y: 119\n",
       "  }\n",
       "  vertices {\n",
       "    x: 264\n",
       "    y: 127\n",
       "  }\n",
       "  vertices {\n",
       "    x: 235\n",
       "    y: 128\n",
       "  }\n",
       "}\n",
       ", description: \"45-54\"\n",
       "bounding_poly {\n",
       "  vertices {\n",
       "    x: 338\n",
       "    y: 120\n",
       "  }\n",
       "  vertices {\n",
       "    x: 367\n",
       "    y: 120\n",
       "  }\n",
       "  vertices {\n",
       "    x: 367\n",
       "    y: 127\n",
       "  }\n",
       "  vertices {\n",
       "    x: 338\n",
       "    y: 127\n",
       "  }\n",
       "}\n",
       ", description: \"55-64\"\n",
       "bounding_poly {\n",
       "  vertices {\n",
       "    x: 441\n",
       "    y: 119\n",
       "  }\n",
       "  vertices {\n",
       "    x: 470\n",
       "    y: 119\n",
       "  }\n",
       "  vertices {\n",
       "    x: 470\n",
       "    y: 127\n",
       "  }\n",
       "  vertices {\n",
       "    x: 441\n",
       "    y: 127\n",
       "  }\n",
       "}\n",
       ", description: \"20%\"\n",
       "bounding_poly {\n",
       "  vertices {\n",
       "    x: 238\n",
       "    y: 163\n",
       "  }\n",
       "  vertices {\n",
       "    x: 259\n",
       "    y: 162\n",
       "  }\n",
       "  vertices {\n",
       "    x: 259\n",
       "    y: 172\n",
       "  }\n",
       "  vertices {\n",
       "    x: 238\n",
       "    y: 173\n",
       "  }\n",
       "}\n",
       ", description: \"20%\"\n",
       "bounding_poly {\n",
       "  vertices {\n",
       "    x: 445\n",
       "    y: 163\n",
       "  }\n",
       "  vertices {\n",
       "    x: 466\n",
       "    y: 162\n",
       "  }\n",
       "  vertices {\n",
       "    x: 466\n",
       "    y: 172\n",
       "  }\n",
       "  vertices {\n",
       "    x: 445\n",
       "    y: 173\n",
       "  }\n",
       "}\n",
       ", description: \"0%\"\n",
       "bounding_poly {\n",
       "  vertices {\n",
       "    x: 35\n",
       "    y: 172\n",
       "  }\n",
       "  vertices {\n",
       "    x: 50\n",
       "    y: 172\n",
       "  }\n",
       "  vertices {\n",
       "    x: 50\n",
       "    y: 181\n",
       "  }\n",
       "  vertices {\n",
       "    x: 35\n",
       "    y: 181\n",
       "  }\n",
       "}\n",
       ", description: \"20%\"\n",
       "bounding_poly {\n",
       "  vertices {\n",
       "    x: 134\n",
       "    y: 177\n",
       "  }\n",
       "  vertices {\n",
       "    x: 155\n",
       "    y: 176\n",
       "  }\n",
       "  vertices {\n",
       "    x: 155\n",
       "    y: 186\n",
       "  }\n",
       "  vertices {\n",
       "    x: 134\n",
       "    y: 187\n",
       "  }\n",
       "}\n",
       ", description: \"4096\"\n",
       "bounding_poly {\n",
       "  vertices {\n",
       "    x: 342\n",
       "    y: 181\n",
       "  }\n",
       "  vertices {\n",
       "    x: 364\n",
       "    y: 181\n",
       "  }\n",
       "  vertices {\n",
       "    x: 364\n",
       "    y: 189\n",
       "  }\n",
       "  vertices {\n",
       "    x: 342\n",
       "    y: 189\n",
       "  }\n",
       "}\n",
       "]"
      ]
     },
     "execution_count": 360,
     "metadata": {},
     "output_type": "execute_result"
    }
   ],
   "source": [
    "texts"
   ]
  },
  {
   "cell_type": "code",
   "execution_count": 361,
   "metadata": {
    "collapsed": true
   },
   "outputs": [],
   "source": [
    "dict_text = {}\n",
    "counter = 0\n",
    "for i in texts[1:]:\n",
    "    dict_text[i.description + str(counter)] = (i.bounding_poly.vertices[0].x, i.bounding_poly.vertices[0].y)\n",
    "    counter += 1"
   ]
  },
  {
   "cell_type": "code",
   "execution_count": 362,
   "metadata": {},
   "outputs": [
    {
     "data": {
      "text/plain": [
       "{'%1': (358, 2),\n",
       " '-3411': (142, 120),\n",
       " '0%17': (35, 172),\n",
       " '0%2': (35, 67),\n",
       " '0%3': (138, 67),\n",
       " '0%4': (241, 76),\n",
       " '0%5': (551, 90),\n",
       " '0%7': (551, 149),\n",
       " '0%8': (448, 90),\n",
       " '1000': (339, 2),\n",
       " '18-249': (28, 119),\n",
       " '20%15': (238, 163),\n",
       " '20%16': (445, 163),\n",
       " '20%18': (134, 177),\n",
       " '2510': (131, 120),\n",
       " '35-4412': (235, 120),\n",
       " '409619': (342, 181),\n",
       " '45-5413': (338, 120),\n",
       " '55-6414': (441, 119),\n",
       " '65+6': (549, 120)}"
      ]
     },
     "execution_count": 362,
     "metadata": {},
     "output_type": "execute_result"
    }
   ],
   "source": [
    "dict_text"
   ]
  },
  {
   "cell_type": "code",
   "execution_count": 363,
   "metadata": {
    "collapsed": true
   },
   "outputs": [],
   "source": [
    "import operator\n",
    "sorted_x = sorted(dict_text.items(), key=operator.itemgetter(1))"
   ]
  },
  {
   "cell_type": "code",
   "execution_count": 364,
   "metadata": {},
   "outputs": [
    {
     "data": {
      "text/plain": [
       "[('18-249', (28, 119)),\n",
       " ('0%2', (35, 67)),\n",
       " ('0%17', (35, 172)),\n",
       " ('2510', (131, 120)),\n",
       " ('20%18', (134, 177)),\n",
       " ('0%3', (138, 67)),\n",
       " ('-3411', (142, 120)),\n",
       " ('35-4412', (235, 120)),\n",
       " ('20%15', (238, 163)),\n",
       " ('0%4', (241, 76)),\n",
       " ('45-5413', (338, 120)),\n",
       " ('1000', (339, 2)),\n",
       " ('409619', (342, 181)),\n",
       " ('%1', (358, 2)),\n",
       " ('55-6414', (441, 119)),\n",
       " ('20%16', (445, 163)),\n",
       " ('0%8', (448, 90)),\n",
       " ('65+6', (549, 120)),\n",
       " ('0%5', (551, 90)),\n",
       " ('0%7', (551, 149))]"
      ]
     },
     "execution_count": 364,
     "metadata": {},
     "output_type": "execute_result"
    }
   ],
   "source": [
    "sorted_x"
   ]
  },
  {
   "cell_type": "code",
   "execution_count": 397,
   "metadata": {},
   "outputs": [],
   "source": [
    "import re\n",
    "dict_age_dist = {}\n",
    "temp_array = []\n",
    "temp = \"\"\n",
    "for i in sorted_x:  \n",
    "    if(re.search(\"[-+]\", i[0])):\n",
    "        if i[0].find(\"-\") == 0:\n",
    "            temp = str(int(i[0][1:3]) - 9) + str(i[0][:3])\n",
    "        elif i[0].find(\"-\") > 0:\n",
    "            temp = i[0][:5]\n",
    "        else:\n",
    "            temp = i[0][:3]\n",
    "        dict_age_dist[temp] = {}\n",
    "    \n",
    "    if(re.match(r'^%',i[0])):\n",
    "        continue\n",
    "    \n",
    "    if(re.match('\\d\\d96',i[0])):\n",
    "        if(i[1][1] > 100):\n",
    "            dict_age_dist[temp]['male'] = re.sub(r'96','%',i[0], flags=re.IGNORECASE)\n",
    "            dict_age_dist[temp]['male'] = dict_age_dist[temp]['male'][:dict_age_dist[temp]['male'].find('%')]\n",
    "        else:\n",
    "            dict_age_dist[temp]['female'] = re.sub(r'96','%',i[0], flags=re.IGNORECASE)\n",
    "            dict_age_dist[temp]['female'] = dict_age_dist[temp]['female'][:dict_age_dist[temp]['female'].find('%')]\n",
    "    \n",
    "    if(re.search(r'%',i[0])):                                   \n",
    "        if(i[1][1] > 100):\n",
    "            dict_age_dist[temp]['male'] = i[0][:i[0].find('%')]\n",
    "        else:\n",
    "            dict_age_dist[temp]['female'] = i[0][:i[0].find('%')]\n",
    "            \n",
    "    if(re.search(r'100',i[0])): \n",
    "        if(i[1][1] > 100):\n",
    "            dict_age_dist[temp]['male'] = i[0][:3]\n",
    "        else:\n",
    "            dict_age_dist[temp]['female'] = i[0][:3]"
   ]
  },
  {
   "cell_type": "code",
   "execution_count": 398,
   "metadata": {},
   "outputs": [
    {
     "data": {
      "text/plain": [
       "{'18-24': {'female': '0', 'male': '20'},\n",
       " '25-34': {},\n",
       " '35-44': {'female': '0', 'male': '20'},\n",
       " '45-54': {'female': '100', 'male': '40'},\n",
       " '55-64': {'female': '0', 'male': '20'},\n",
       " '65+': {'female': '0', 'male': '0'}}"
      ]
     },
     "execution_count": 398,
     "metadata": {},
     "output_type": "execute_result"
    }
   ],
   "source": [
    "dict_age_dist"
   ]
  },
  {
   "cell_type": "markdown",
   "metadata": {},
   "source": [
    "## Demographics - Relationship Status chart"
   ]
  },
  {
   "cell_type": "code",
   "execution_count": 159,
   "metadata": {
    "collapsed": true
   },
   "outputs": [],
   "source": [
    "file_name2 = os.path.join(os.path.dirname('__file__'),'/home/charly/Desktop/Facebook Scraping/image_1.png')"
   ]
  },
  {
   "cell_type": "code",
   "execution_count": 160,
   "metadata": {
    "collapsed": true
   },
   "outputs": [],
   "source": [
    "with io.open(file_name2, 'rb') as image_file:\n",
    "    content = image_file.read()\n",
    "image = types.Image(content=content)\n",
    "response = client.text_detection(image=image)\n",
    "texts = response.text_annotations"
   ]
  },
  {
   "cell_type": "code",
   "execution_count": 173,
   "metadata": {},
   "outputs": [],
   "source": [
    "dict_text = {}\n",
    "counter = 0\n",
    "for i in texts[1:]:\n",
    "    dict_text[i.description + str(counter)] = (i.bounding_poly.vertices[0].x, i.bounding_poly.vertices[0].y)\n",
    "    counter += 1"
   ]
  },
  {
   "cell_type": "code",
   "execution_count": 174,
   "metadata": {},
   "outputs": [
    {
     "data": {
      "text/plain": [
       "{'0%3': (222, 166), '25%1': (28, 46), '25%2': (123, 92), '50%0': (314, 2)}"
      ]
     },
     "execution_count": 174,
     "metadata": {},
     "output_type": "execute_result"
    }
   ],
   "source": [
    "dict_text"
   ]
  },
  {
   "cell_type": "code",
   "execution_count": 175,
   "metadata": {
    "collapsed": true
   },
   "outputs": [],
   "source": [
    "for (i, k) in dict_text.items():\n",
    "    dict_text[i] = k[0]\n",
    "sorted_x = sorted(dict_text.items(), key=operator.itemgetter(1))\n",
    "percentage = []\n",
    "for i in sorted_x:\n",
    "    if re.search(r'%',i[0]) is None:\n",
    "        percentage.append(re.sub(r'96','%',i[0], flags=re.IGNORECASE))\n",
    "    else:\n",
    "        percentage.append(i[0])"
   ]
  },
  {
   "cell_type": "code",
   "execution_count": 176,
   "metadata": {
    "collapsed": true
   },
   "outputs": [],
   "source": [
    "education = driver.find_elements_by_class_name(\"_4dfp\")"
   ]
  },
  {
   "cell_type": "code",
   "execution_count": 177,
   "metadata": {
    "collapsed": true
   },
   "outputs": [],
   "source": [
    "rel = []\n",
    "for i in education[:4]:\n",
    "    rel.append(i.text)"
   ]
  },
  {
   "cell_type": "code",
   "execution_count": 417,
   "metadata": {
    "collapsed": true
   },
   "outputs": [],
   "source": [
    "dict_relationship = {}\n",
    "for i,j in zip(rel, percentage):\n",
    "    dict_relationship[i] = j[:j.find('%')]"
   ]
  },
  {
   "cell_type": "code",
   "execution_count": 418,
   "metadata": {},
   "outputs": [
    {
     "data": {
      "text/plain": [
       "{'Engaged': '20', 'In a Relationship': '60', 'Single': '20'}"
      ]
     },
     "execution_count": 418,
     "metadata": {},
     "output_type": "execute_result"
    }
   ],
   "source": [
    "dict_relationship"
   ]
  },
  {
   "cell_type": "markdown",
   "metadata": {},
   "source": [
    "## Demographics - Education Level chart"
   ]
  },
  {
   "cell_type": "code",
   "execution_count": 410,
   "metadata": {
    "collapsed": true
   },
   "outputs": [],
   "source": [
    "file_name3 = os.path.join(os.path.dirname('__file__ '),'/home/charly/Desktop/Facebook Scraping/image_2.png')"
   ]
  },
  {
   "cell_type": "code",
   "execution_count": 411,
   "metadata": {
    "collapsed": true
   },
   "outputs": [],
   "source": [
    "with io.open(file_name3, 'rb') as image_file:\n",
    "    content = image_file.read()\n",
    "image = types.Image(content=content)\n",
    "response = client.text_detection(image=image)\n",
    "texts = response.text_annotations"
   ]
  },
  {
   "cell_type": "code",
   "execution_count": 420,
   "metadata": {
    "collapsed": true
   },
   "outputs": [],
   "source": [
    "dict_text = {}\n",
    "counter = 0\n",
    "for i in texts[1:]:\n",
    "    dict_text[i.description + str(counter)] = (i.bounding_poly.vertices[0].x, i.bounding_poly.vertices[0].y)\n",
    "    counter += 1"
   ]
  },
  {
   "cell_type": "code",
   "execution_count": 421,
   "metadata": {
    "collapsed": true
   },
   "outputs": [],
   "source": [
    "for (i, k) in dict_text.items():\n",
    "    dict_text[i] = k[0]\n",
    "sorted_x = sorted(dict_text.items(), key=operator.itemgetter(1))\n",
    "percentage = []\n",
    "for i in sorted_x:\n",
    "    if re.search(r'%',i[0]) is None:\n",
    "        percentage.append(re.sub(r'96','%',i[0], flags=re.IGNORECASE))\n",
    "    else:\n",
    "        percentage.append(i[0])"
   ]
  },
  {
   "cell_type": "code",
   "execution_count": null,
   "metadata": {},
   "outputs": [],
   "source": [
    "ed = []\n",
    "for i in education[4:]:\n",
    "    ed.append(i.text)"
   ]
  },
  {
   "cell_type": "code",
   "execution_count": 415,
   "metadata": {
    "collapsed": true
   },
   "outputs": [],
   "source": [
    "dict_education = {}\n",
    "for i,j in zip(ed, percentage):\n",
    "    dict_relationship[i] = j[:j.find('%')]"
   ]
  },
  {
   "cell_type": "code",
   "execution_count": 416,
   "metadata": {},
   "outputs": [
    {
     "data": {
      "text/plain": [
       "{}"
      ]
     },
     "execution_count": 416,
     "metadata": {},
     "output_type": "execute_result"
    }
   ],
   "source": [
    "dict_education"
   ]
  },
  {
   "cell_type": "markdown",
   "metadata": {},
   "source": [
    "## Scrape Job Title and Industries"
   ]
  },
  {
   "cell_type": "code",
   "execution_count": 187,
   "metadata": {},
   "outputs": [
    {
     "name": "stdout",
     "output_type": "stream",
     "text": [
      "Data Unavailable\n"
     ]
    }
   ],
   "source": [
    "see_all_button = driver.find_elements_by_class_name(\"_5xp8\")\n",
    "if len(see_all_button) != 0:\n",
    "    see_all_button[0].click()\n",
    "else:\n",
    "    print(\"Data Unavailable\")"
   ]
  },
  {
   "cell_type": "code",
   "execution_count": 350,
   "metadata": {
    "collapsed": true
   },
   "outputs": [],
   "source": [
    "jobs = driver.find_elements_by_class_name(\"_54_6\")\n",
    "jobs = jobs[0].find_elements_by_tag_name(\"tr\")"
   ]
  },
  {
   "cell_type": "code",
   "execution_count": 351,
   "metadata": {
    "collapsed": true
   },
   "outputs": [],
   "source": [
    "jobs_array = []\n",
    "for i in jobs[1:]:\n",
    "    jobs_list = i.find_elements_by_tag_name(\"td\")\n",
    "    temp_array = []\n",
    "    for j in jobs_list:\n",
    "        temp_array.append(j.text)\n",
    "    jobs_array.append(temp_array)"
   ]
  },
  {
   "cell_type": "code",
   "execution_count": 352,
   "metadata": {},
   "outputs": [
    {
     "data": {
      "text/plain": [
       "[['Installation and repair services', '19%', '+90%'],\n",
       " ['Transport and moving', '14%', '+75%'],\n",
       " ['Farming, fishing and forestry', '10%', '+67%'],\n",
       " ['Architecture and engineering', '14%', '+56%'],\n",
       " ['Construction and extraction', '3%', '+50%'],\n",
       " ['Production', '17%', '+42%'],\n",
       " ['Life, physical and social sciences', '10%', '+25%'],\n",
       " ['Healthcare and medical services', '13%', '+8%'],\n",
       " ['Arts, entertainment, sport and media', '16%', '+7%'],\n",
       " ['Cleaning and maintenance services', '3%', '+0%'],\n",
       " ['Business and finance', '10%', '+0%'],\n",
       " ['Protective services', '1%', '+0%'],\n",
       " ['Administrative services', '17%', '-11%'],\n",
       " ['Sales', '17%', '-11%'],\n",
       " ['IT and technical services', '7%', '-12%'],\n",
       " ['Computation and mathematics', '7%', '-12%'],\n",
       " ['Management', '14%', '-12%'],\n",
       " ['Personal care and at-home services', '7%', '-12%'],\n",
       " ['Food and restaurants', '4%', '-33%'],\n",
       " ['Education and libraries', '9%', '-36%'],\n",
       " ['Community and social services', '7%', '-42%'],\n",
       " ['Legal services', '1%', '-50%']]"
      ]
     },
     "execution_count": 352,
     "metadata": {},
     "output_type": "execute_result"
    }
   ],
   "source": [
    "jobs_array"
   ]
  },
  {
   "cell_type": "markdown",
   "metadata": {},
   "source": [
    "## Scrape Page Likes"
   ]
  },
  {
   "cell_type": "code",
   "execution_count": 243,
   "metadata": {},
   "outputs": [],
   "source": [
    "driver.get(\"https://www.facebook.com/ads/audience-insights/interests?act=\"\\\n",
    "           + user_id + \"&age=\" + age + \"-&custom_audiences=\" + custom_audiences)"
   ]
  },
  {
   "cell_type": "code",
   "execution_count": 246,
   "metadata": {
    "collapsed": true
   },
   "outputs": [],
   "source": [
    "see_all_buttons = driver.find_elements_by_class_name(\"_5xp8\")"
   ]
  },
  {
   "cell_type": "code",
   "execution_count": 247,
   "metadata": {},
   "outputs": [],
   "source": [
    "see_all_buttons[0].click()\n",
    "see_all_buttons[1].click()"
   ]
  },
  {
   "cell_type": "code",
   "execution_count": 248,
   "metadata": {
    "collapsed": true
   },
   "outputs": [],
   "source": [
    "interests_likes = driver.find_elements_by_class_name(\"_54_6\")"
   ]
  },
  {
   "cell_type": "code",
   "execution_count": 249,
   "metadata": {
    "collapsed": true
   },
   "outputs": [],
   "source": [
    "interests_lists = interests_likes[0].find_elements_by_tag_name(\"tr\")"
   ]
  },
  {
   "cell_type": "code",
   "execution_count": 250,
   "metadata": {
    "collapsed": true
   },
   "outputs": [],
   "source": [
    "interests_array = []\n",
    "for i in interests_lists:\n",
    "    jobs_list = i.find_elements_by_tag_name(\"td\")\n",
    "    temp_array = []\n",
    "    for j in jobs_list:\n",
    "        temp_array.append(j.text)\n",
    "    interests_array.append(temp_array)"
   ]
  },
  {
   "cell_type": "code",
   "execution_count": 251,
   "metadata": {},
   "outputs": [],
   "source": [
    "likes_lists = interests_likes[1].find_elements_by_tag_name(\"tr\")"
   ]
  },
  {
   "cell_type": "code",
   "execution_count": 252,
   "metadata": {
    "collapsed": true
   },
   "outputs": [],
   "source": [
    "likes_array = []\n",
    "for i in likes_lists[1:]:\n",
    "    jobs_list = i.find_elements_by_tag_name(\"td\")\n",
    "    temp_array = []\n",
    "    for j in jobs_list:\n",
    "        temp_array.append(j.text)\n",
    "    likes_array.append(temp_array)"
   ]
  },
  {
   "cell_type": "code",
   "execution_count": 254,
   "metadata": {},
   "outputs": [],
   "source": [
    "Top_Categories = pd.DataFrame(interests_array, columns = [\"Number\", \"Category\", \"Page name\" ])\n",
    "Top_Categories.set_index(\"Number\", inplace = True)"
   ]
  },
  {
   "cell_type": "code",
   "execution_count": 264,
   "metadata": {},
   "outputs": [],
   "source": [
    "Likes = pd.DataFrame(likes_array, columns = [\"Page\", \"Relevance\", \"Audience\",\"Facebook\",\"Affinity\"])"
   ]
  },
  {
   "cell_type": "code",
   "execution_count": 265,
   "metadata": {},
   "outputs": [
    {
     "data": {
      "text/html": [
       "<div>\n",
       "<style>\n",
       "    .dataframe thead tr:only-child th {\n",
       "        text-align: right;\n",
       "    }\n",
       "\n",
       "    .dataframe thead th {\n",
       "        text-align: left;\n",
       "    }\n",
       "\n",
       "    .dataframe tbody tr th {\n",
       "        vertical-align: top;\n",
       "    }\n",
       "</style>\n",
       "<table border=\"1\" class=\"dataframe\">\n",
       "  <thead>\n",
       "    <tr style=\"text-align: right;\">\n",
       "      <th></th>\n",
       "      <th>Page</th>\n",
       "      <th>Relevance</th>\n",
       "      <th>Audience</th>\n",
       "      <th>Facebook</th>\n",
       "      <th>Affinity</th>\n",
       "    </tr>\n",
       "  </thead>\n",
       "  <tbody>\n",
       "    <tr>\n",
       "      <th>0</th>\n",
       "      <td>BBR GTI</td>\n",
       "      <td>1</td>\n",
       "      <td>26</td>\n",
       "      <td>2.8K</td>\n",
       "      <td>21431x</td>\n",
       "    </tr>\n",
       "    <tr>\n",
       "      <th>1</th>\n",
       "      <td>Mazda Belgium</td>\n",
       "      <td>2</td>\n",
       "      <td>112</td>\n",
       "      <td>21.4K</td>\n",
       "      <td>11940x</td>\n",
       "    </tr>\n",
       "    <tr>\n",
       "      <th>2</th>\n",
       "      <td>Miatas and girls</td>\n",
       "      <td>3</td>\n",
       "      <td>22</td>\n",
       "      <td>5.2K</td>\n",
       "      <td>9631x</td>\n",
       "    </tr>\n",
       "    <tr>\n",
       "      <th>3</th>\n",
       "      <td>InterClassics</td>\n",
       "      <td>4</td>\n",
       "      <td>16</td>\n",
       "      <td>10.5K</td>\n",
       "      <td>3467x</td>\n",
       "    </tr>\n",
       "    <tr>\n",
       "      <th>4</th>\n",
       "      <td>MX-5 Owners Club</td>\n",
       "      <td>5</td>\n",
       "      <td>16</td>\n",
       "      <td>14.1K</td>\n",
       "      <td>2599x</td>\n",
       "    </tr>\n",
       "    <tr>\n",
       "      <th>5</th>\n",
       "      <td>TopMiata.com</td>\n",
       "      <td>6</td>\n",
       "      <td>40</td>\n",
       "      <td>41.1K</td>\n",
       "      <td>2225x</td>\n",
       "    </tr>\n",
       "    <tr>\n",
       "      <th>6</th>\n",
       "      <td>Mazda Friends of MX-5</td>\n",
       "      <td>7</td>\n",
       "      <td>59</td>\n",
       "      <td>70.2K</td>\n",
       "      <td>1921x</td>\n",
       "    </tr>\n",
       "    <tr>\n",
       "      <th>7</th>\n",
       "      <td>TubeXpert</td>\n",
       "      <td>8</td>\n",
       "      <td>16</td>\n",
       "      <td>20.8K</td>\n",
       "      <td>1755x</td>\n",
       "    </tr>\n",
       "    <tr>\n",
       "      <th>8</th>\n",
       "      <td>ALFA ROMEO</td>\n",
       "      <td>9</td>\n",
       "      <td>20</td>\n",
       "      <td>29.1K</td>\n",
       "      <td>1570x</td>\n",
       "    </tr>\n",
       "    <tr>\n",
       "      <th>9</th>\n",
       "      <td>AutoSalon</td>\n",
       "      <td>10</td>\n",
       "      <td>24</td>\n",
       "      <td>52.7K</td>\n",
       "      <td>1041x</td>\n",
       "    </tr>\n",
       "    <tr>\n",
       "      <th>10</th>\n",
       "      <td>Gocar.be</td>\n",
       "      <td>11</td>\n",
       "      <td>19</td>\n",
       "      <td>48.1K</td>\n",
       "      <td>902x</td>\n",
       "    </tr>\n",
       "    <tr>\n",
       "      <th>11</th>\n",
       "      <td>Michel Daerden</td>\n",
       "      <td>12</td>\n",
       "      <td>22</td>\n",
       "      <td>62.3K</td>\n",
       "      <td>806x</td>\n",
       "    </tr>\n",
       "    <tr>\n",
       "      <th>12</th>\n",
       "      <td>Jaguar</td>\n",
       "      <td>13</td>\n",
       "      <td>23</td>\n",
       "      <td>65.3K</td>\n",
       "      <td>805x</td>\n",
       "    </tr>\n",
       "    <tr>\n",
       "      <th>13</th>\n",
       "      <td>Extradal : Parquet ,Carrelage, béton ciré et l...</td>\n",
       "      <td>14</td>\n",
       "      <td>16</td>\n",
       "      <td>46.8K</td>\n",
       "      <td>781x</td>\n",
       "    </tr>\n",
       "    <tr>\n",
       "      <th>14</th>\n",
       "      <td>Stoffel Vandoorne</td>\n",
       "      <td>15</td>\n",
       "      <td>27</td>\n",
       "      <td>87.4K</td>\n",
       "      <td>706x</td>\n",
       "    </tr>\n",
       "    <tr>\n",
       "      <th>15</th>\n",
       "      <td>Nikon</td>\n",
       "      <td>16</td>\n",
       "      <td>26</td>\n",
       "      <td>86.1K</td>\n",
       "      <td>690x</td>\n",
       "    </tr>\n",
       "    <tr>\n",
       "      <th>16</th>\n",
       "      <td>MINI</td>\n",
       "      <td>17</td>\n",
       "      <td>30</td>\n",
       "      <td>101K</td>\n",
       "      <td>679x</td>\n",
       "    </tr>\n",
       "    <tr>\n",
       "      <th>17</th>\n",
       "      <td>Voyage Privé</td>\n",
       "      <td>18</td>\n",
       "      <td>20</td>\n",
       "      <td>76.1K</td>\n",
       "      <td>601x</td>\n",
       "    </tr>\n",
       "    <tr>\n",
       "      <th>18</th>\n",
       "      <td>Star Wars</td>\n",
       "      <td>19</td>\n",
       "      <td>32</td>\n",
       "      <td>128K</td>\n",
       "      <td>571x</td>\n",
       "    </tr>\n",
       "    <tr>\n",
       "      <th>19</th>\n",
       "      <td>Coolblue</td>\n",
       "      <td>20</td>\n",
       "      <td>31</td>\n",
       "      <td>134.9K</td>\n",
       "      <td>525x</td>\n",
       "    </tr>\n",
       "  </tbody>\n",
       "</table>\n",
       "</div>"
      ],
      "text/plain": [
       "                                                 Page Relevance Audience  \\\n",
       "0                                             BBR GTI         1       26   \n",
       "1                                       Mazda Belgium         2      112   \n",
       "2                                    Miatas and girls         3       22   \n",
       "3                                       InterClassics         4       16   \n",
       "4                                    MX-5 Owners Club         5       16   \n",
       "5                                        TopMiata.com         6       40   \n",
       "6                               Mazda Friends of MX-5         7       59   \n",
       "7                                           TubeXpert         8       16   \n",
       "8                                          ALFA ROMEO         9       20   \n",
       "9                                           AutoSalon        10       24   \n",
       "10                                           Gocar.be        11       19   \n",
       "11                                     Michel Daerden        12       22   \n",
       "12                                             Jaguar        13       23   \n",
       "13  Extradal : Parquet ,Carrelage, béton ciré et l...        14       16   \n",
       "14                                  Stoffel Vandoorne        15       27   \n",
       "15                                              Nikon        16       26   \n",
       "16                                               MINI        17       30   \n",
       "17                                       Voyage Privé        18       20   \n",
       "18                                          Star Wars        19       32   \n",
       "19                                           Coolblue        20       31   \n",
       "\n",
       "   Facebook Affinity  \n",
       "0      2.8K   21431x  \n",
       "1     21.4K   11940x  \n",
       "2      5.2K    9631x  \n",
       "3     10.5K    3467x  \n",
       "4     14.1K    2599x  \n",
       "5     41.1K    2225x  \n",
       "6     70.2K    1921x  \n",
       "7     20.8K    1755x  \n",
       "8     29.1K    1570x  \n",
       "9     52.7K    1041x  \n",
       "10    48.1K     902x  \n",
       "11    62.3K     806x  \n",
       "12    65.3K     805x  \n",
       "13    46.8K     781x  \n",
       "14    87.4K     706x  \n",
       "15    86.1K     690x  \n",
       "16     101K     679x  \n",
       "17    76.1K     601x  \n",
       "18     128K     571x  \n",
       "19   134.9K     525x  "
      ]
     },
     "execution_count": 265,
     "metadata": {},
     "output_type": "execute_result"
    }
   ],
   "source": [
    "Likes"
   ]
  },
  {
   "cell_type": "code",
   "execution_count": null,
   "metadata": {},
   "outputs": [],
   "source": [
    "jobs_array = []\n",
    "for i in jobs[1:]:\n",
    "    jobs_list = i.find_elements_by_tag_name(\"td\")\n",
    "    temp_array = []\n",
    "    for j in jobs_list:\n",
    "        temp_array.append(j.text)\n",
    "    jobs_array.append(temp_array)"
   ]
  },
  {
   "cell_type": "markdown",
   "metadata": {},
   "source": [
    "## Scrape Locations"
   ]
  },
  {
   "cell_type": "code",
   "execution_count": 201,
   "metadata": {
    "collapsed": true
   },
   "outputs": [],
   "source": [
    "driver.get(\"https://www.facebook.com/ads/audience-insights/geography?act=\"\\\n",
    "           + user_id + \"&age=\" + age + \"-&custom_audiences=\" + custom_audiences)"
   ]
  },
  {
   "cell_type": "code",
   "execution_count": 106,
   "metadata": {
    "collapsed": true
   },
   "outputs": [],
   "source": [
    "see_all_button = driver.find_elements_by_class_name(\"_5xp8\")"
   ]
  },
  {
   "cell_type": "code",
   "execution_count": null,
   "metadata": {},
   "outputs": [],
   "source": [
    "see_all_button[0].click()"
   ]
  },
  {
   "cell_type": "code",
   "execution_count": 432,
   "metadata": {
    "collapsed": true
   },
   "outputs": [],
   "source": [
    "locations = driver.find_elements_by_class_name(\"_54_6\")"
   ]
  },
  {
   "cell_type": "code",
   "execution_count": 434,
   "metadata": {
    "collapsed": true
   },
   "outputs": [],
   "source": [
    "locations_lists = locations[0].find_elements_by_tag_name(\"tr\")"
   ]
  },
  {
   "cell_type": "code",
   "execution_count": 439,
   "metadata": {
    "collapsed": true
   },
   "outputs": [],
   "source": [
    "locations_array = []\n",
    "for i in locations_lists[1:]:\n",
    "    jobs_list = i.find_elements_by_tag_name(\"td\")\n",
    "    temp_array = []\n",
    "    for j in jobs_list:\n",
    "        temp_array.append(j.text)\n",
    "    locations_array.append(temp_array)"
   ]
  },
  {
   "cell_type": "code",
   "execution_count": 442,
   "metadata": {
    "collapsed": true
   },
   "outputs": [],
   "source": [
    "locations_array.insert(0,[\"Towns/Cities\", \"Selected Audience\", \"Compare\"])"
   ]
  },
  {
   "cell_type": "code",
   "execution_count": 443,
   "metadata": {
    "scrolled": true
   },
   "outputs": [
    {
     "data": {
      "text/plain": [
       "[['Towns/Cities', 'Selected Audience', 'Compare'],\n",
       " ['Halle, Flemish Region, Belgium', '0.2%', '+100%'],\n",
       " ['Zandvliet, Flemish Region, Belgium', '0.2%', '+100%'],\n",
       " ['Rocourt, Wallonia, Belgium', '0.3%', '+50%'],\n",
       " ['Ostend, Flemish Region, Belgium', '0.5%', '+25%'],\n",
       " ['Molenbeek-Saint-Jean, Brussels, Belgium', '0.6%', '+20%'],\n",
       " ['Genk, Flemish Region, Belgium', '0.8%', '+14%'],\n",
       " ['Hasselt, Flemish Region, Belgium', '1%', '+10%'],\n",
       " ['Leuven, Flemish Region, Belgium', '2%', '+6%'],\n",
       " ['Liège, Wallonia, Belgium', '2%', '+6%'],\n",
       " ['Namur, Wallonia, Belgium', '2%', '+6%'],\n",
       " ['Lüttich, Wallonia, Belgium', '3%', '+4%'],\n",
       " ['Brussels, Brussels, Belgium', '7%', '+3%'],\n",
       " ['Antwerp, Flemish Region, Belgium', '4%', '+3%'],\n",
       " ['Gent, Flemish Region, Belgium', '6%', '+2%'],\n",
       " ['Aarschot, Flemish Region, Belgium', '0.2%', '+0%'],\n",
       " ['Alost, Flemish Region, Belgium', '0.3%', '+0%'],\n",
       " ['Andenne, Wallonia, Belgium', '0.2%', '+0%'],\n",
       " ['Arlon, Wallonia, Belgium', '0.4%', '+0%'],\n",
       " ['Ath, Wallonia, Belgium', '0.4%', '+0%'],\n",
       " ['Bastogne, Wallonia, Belgium', '0.2%', '+0%'],\n",
       " ['Berchem, Flemish Region, Belgium', '0.4%', '+0%'],\n",
       " ['Beringen, Flemish Region, Belgium', '0.2%', '+0%'],\n",
       " ['Bilzen, Flemish Region, Belgium', '0.2%', '+0%'],\n",
       " ['Borgerhout, Flemish Region, Belgium', '0.4%', '+0%'],\n",
       " ['Brasschaet, Flemish Region, Belgium', '0.2%', '+0%'],\n",
       " ['Brugge, Flemish Region, Belgium', '1%', '+0%'],\n",
       " ['Charleroi, Wallonia, Belgium', '0.8%', '+0%'],\n",
       " ['Châtelet, Wallonia, Belgium', '0.2%', '+0%'],\n",
       " ['Kortrijk, Flemish Region, Belgium', '1%', '+0%'],\n",
       " ['Deurne, Flemish Region, Belgium', '0.7%', '+0%'],\n",
       " ['Eigenbrake, Wallonia, Belgium', '0.2%', '+0%'],\n",
       " ['Ekeren, Flemish Region, Belgium', '0.2%', '+0%'],\n",
       " ['Etterbeek, Brussels, Belgium', '0.4%', '+0%'],\n",
       " ['Evere, Brussels, Belgium', '0.4%', '+0%'],\n",
       " ['Forest, Brussels, Belgium', '0.7%', '+0%'],\n",
       " ['Geel, Flemish Region, Belgium', '0.4%', '+0%'],\n",
       " ['Gembloux, Wallonia, Belgium', '0.2%', '+0%'],\n",
       " ['Gilly, Wallonia, Belgium', '0.2%', '+0%'],\n",
       " ['Heist-op-den-Berg, Flemish Region, Belgium', '0.2%', '+0%'],\n",
       " ['Houthalen, Flemish Region, Belgium', '0.2%', '+0%'],\n",
       " ['Huy, Wallonia, Belgium', '0.3%', '+0%'],\n",
       " ['Ixelles, Brussels, Belgium', '0.9%', '+0%'],\n",
       " ['Izegem, Flemish Region, Belgium', '0.2%', '+0%'],\n",
       " ['Jette, Brussels, Belgium', '0.5%', '+0%'],\n",
       " ['Jumet, Wallonia, Belgium', '0.3%', '+0%'],\n",
       " ['Koekelberg, Flemish Region, Belgium', '0.2%', '+0%'],\n",
       " ['Laeken, Brussels, Belgium', '0.5%', '+0%'],\n",
       " ['La Louvière, Wallonia, Belgium', '0.4%', '+0%'],\n",
       " ['Lanaken, Flemish Region, Belgium', '0.2%', '+0%'],\n",
       " ['Lokeren, Flemish Region, Belgium', '0.2%', '+0%'],\n",
       " ['Lommel, Flemish Region, Belgium', '0.3%', '+0%'],\n",
       " ['Louvain, Flemish Region, Belgium', '0.5%', '+0%'],\n",
       " ['Maasmechelen, Flemish Region, Belgium', '0.3%', '+0%'],\n",
       " ['Malines, Flemish Region, Belgium', '0.2%', '+0%'],\n",
       " ['Malmédy, Wallonia, Belgium', '0.2%', '+0%'],\n",
       " ['Marcinelle, Wallonia, Belgium', '0.4%', '+0%'],\n",
       " ['Mechelen, Flemish Region, Belgium', '0.5%', '+0%'],\n",
       " ['Menin, Flemish Region, Belgium', '0.2%', '+0%'],\n",
       " ['Merksem, Flemish Region, Belgium', '0.4%', '+0%'],\n",
       " ['Mol, Flemish Region, Belgium', '0.3%', '+0%'],\n",
       " ['Mons, Wallonia, Belgium', '2%', '+0%'],\n",
       " ['Montignies-sur-Sambre, Wallonia, Belgium', '0.2%', '+0%'],\n",
       " ['Mouscron, Wallonia, Belgium', '0.5%', '+0%'],\n",
       " ['Nivelles, Wallonia, Belgium', '0.3%', '+0%'],\n",
       " ['Ottignies-Louvain-la-Neuve, Wallonia, Belgium', '0.3%', '+0%'],\n",
       " ['Oudenaarde, Flemish Region, Belgium', '0.2%', '+0%'],\n",
       " ['Pirot, Wallonia, Belgium', '0.2%', '+0%'],\n",
       " ['Roeselare, Flemish Region, Belgium', '0.2%', '+0%'],\n",
       " ['Ronse, Flemish Region, Belgium', '0.2%', '+0%'],\n",
       " ['Roulers, Flemish Region, Belgium', '0.5%', '+0%'],\n",
       " ['Saint-Josse-ten-Noode, Brussels, Belgium', '0.2%', '+0%'],\n",
       " ['Saint Nicolas, Flemish Region, Belgium', '0.2%', '+0%'],\n",
       " ['Schaerbeek, Brussels, Belgium', '2%', '+0%'],\n",
       " ['Schoten, Flemish Region, Belgium', '0.3%', '+0%'],\n",
       " ['Seraing, Wallonia, Belgium', '0.7%', '+0%'],\n",
       " ['Sint-Amandsberg, Flemish Region, Belgium', '0.2%', '+0%'],\n",
       " ['Sint-Andries, Flemish Region, Belgium', '0.2%', '+0%'],\n",
       " ['Sint Gillis, Flemish Region, Belgium', '0.5%', '+0%'],\n",
       " ['Sint-Kruis, Flemish Region, Belgium', '0.2%', '+0%'],\n",
       " ['Sint-Niklaas, Flemish Region, Belgium', '0.4%', '+0%'],\n",
       " ['Sint-Truiden, Flemish Region, Belgium', '0.4%', '+0%'],\n",
       " ['Termonde, Flemish Region, Belgium', '0.3%', '+0%'],\n",
       " ['Tirlemont, Flemish Region, Belgium', '0.2%', '+0%'],\n",
       " ['Tongres, Flemish Region, Belgium', '0.2%', '+0%'],\n",
       " ['Torhout, Flemish Region, Belgium', '0.2%', '+0%'],\n",
       " ['Tournai, Wallonia, Belgium', '1%', '+0%'],\n",
       " ['Turnhout, Flemish Region, Belgium', '0.8%', '+0%'],\n",
       " ['Uccle, Brussels, Belgium', '0.8%', '+0%'],\n",
       " ['Verviers, Wallonia, Belgium', '0.6%', '+0%'],\n",
       " ['Vilvorde, Flemish Region, Belgium', '0.2%', '+0%'],\n",
       " ['Waregem, Flemish Region, Belgium', '0.3%', '+0%'],\n",
       " ['Watermael-Boitsfort, Brussels, Belgium', '0.2%', '+0%'],\n",
       " ['Wavre, Wallonia, Belgium', '0.4%', '+0%'],\n",
       " ['Wevelghem, Flemish Region, Belgium', '0.2%', '+0%'],\n",
       " ['Wilrijk, Flemish Region, Belgium', '0.4%', '+0%'],\n",
       " ['Woluwé-Saint-Lambert, Brussels, Belgium', '0.4%', '+0%'],\n",
       " ['Woluwé-Saint-Pierre, Brussels, Belgium', '0.2%', '+0%'],\n",
       " ['Ypres, Flemish Region, Belgium', '0.2%', '+0%'],\n",
       " ['Zinnik, Wallonia, Belgium', '0.2%', '+0%'],\n",
       " ['Lier, Flemish Region, Belgium', '0.4%', '+0%']]"
      ]
     },
     "execution_count": 443,
     "metadata": {},
     "output_type": "execute_result"
    }
   ],
   "source": [
    "locations_array"
   ]
  },
  {
   "cell_type": "code",
   "execution_count": 268,
   "metadata": {
    "collapsed": true
   },
   "outputs": [],
   "source": [
    "driver.close() "
   ]
  },
  {
   "cell_type": "markdown",
   "metadata": {
    "collapsed": true
   },
   "source": [
    "## Dataframe Creation"
   ]
  },
  {
   "cell_type": "code",
   "execution_count": 226,
   "metadata": {},
   "outputs": [],
   "source": [
    "df = pd.DataFrame(columns = [\"Women\", \"Men\", \"18-24\", \"25-34\", \"35-44\", \"45-54\", \"55-64\", \"65+\",\\\n",
    "                             \"Single\", \"In a Relationship\", \"Engaged\", \"Married\", \"High School\", \"University\", \\\n",
    "                            \"University (postgraduate)\",\"Top Categories\", \"Page Likes\", \"Location\"])"
   ]
  },
  {
   "cell_type": "code",
   "execution_count": 267,
   "metadata": {},
   "outputs": [
    {
     "ename": "KeyError",
     "evalue": "'18-24'",
     "output_type": "error",
     "traceback": [
      "\u001b[0;31m---------------------------------------------------------------------------\u001b[0m",
      "\u001b[0;31mKeyError\u001b[0m                                  Traceback (most recent call last)",
      "\u001b[0;32m<ipython-input-267-faaca5279217>\u001b[0m in \u001b[0;36m<module>\u001b[0;34m()\u001b[0m\n\u001b[1;32m      1\u001b[0m \u001b[0mdf\u001b[0m\u001b[0;34m[\u001b[0m\u001b[0;34m\"Women\"\u001b[0m\u001b[0;34m]\u001b[0m \u001b[0;34m=\u001b[0m \u001b[0mpercent_data_woman\u001b[0m\u001b[0;34m\u001b[0m\u001b[0m\n\u001b[1;32m      2\u001b[0m \u001b[0mdf\u001b[0m\u001b[0;34m[\u001b[0m\u001b[0;34m\"Men\"\u001b[0m\u001b[0;34m]\u001b[0m \u001b[0;34m=\u001b[0m \u001b[0mpercent_data_man\u001b[0m\u001b[0;34m\u001b[0m\u001b[0m\n\u001b[0;32m----> 3\u001b[0;31m \u001b[0mdf\u001b[0m\u001b[0;34m[\u001b[0m\u001b[0;34m\"18-24\"\u001b[0m\u001b[0;34m]\u001b[0m \u001b[0;34m=\u001b[0m \u001b[0mdict_age_dist\u001b[0m\u001b[0;34m[\u001b[0m\u001b[0;34m'18-24'\u001b[0m\u001b[0;34m]\u001b[0m\u001b[0;34m\u001b[0m\u001b[0m\n\u001b[0m\u001b[1;32m      4\u001b[0m \u001b[0mdf\u001b[0m\u001b[0;34m[\u001b[0m\u001b[0;34m\"25-34\"\u001b[0m\u001b[0;34m]\u001b[0m \u001b[0;34m=\u001b[0m \u001b[0mdict_age_dist\u001b[0m\u001b[0;34m[\u001b[0m\u001b[0;34m'25-34'\u001b[0m\u001b[0;34m]\u001b[0m\u001b[0;34m\u001b[0m\u001b[0m\n\u001b[1;32m      5\u001b[0m \u001b[0mdf\u001b[0m\u001b[0;34m[\u001b[0m\u001b[0;34m\"35-44\"\u001b[0m\u001b[0;34m]\u001b[0m \u001b[0;34m=\u001b[0m \u001b[0mdict_age_dist\u001b[0m\u001b[0;34m[\u001b[0m\u001b[0;34m'35-44'\u001b[0m\u001b[0;34m]\u001b[0m\u001b[0;34m\u001b[0m\u001b[0m\n",
      "\u001b[0;31mKeyError\u001b[0m: '18-24'"
     ]
    }
   ],
   "source": [
    "df[\"Women\"] = percent_data_woman\n",
    "df[\"Men\"] = percent_data_man\n",
    "df[\"18-24\"] = dict_age_dist['18-24']\n",
    "df[\"25-34\"] = dict_age_dist['25-34']\n",
    "df[\"35-44\"] = dict_age_dist['35-44']\n",
    "df[\"45-54\"] = dict_age_dist['45-54']\n",
    "df[\"55-64\"] = dict_age_dist['55-64']\n",
    "df[\"65+\"] = dict_age_dist['65+']\n",
    "df['Single'] = dict_relationship['Single']\n",
    "df['In a Relationship'] = dict_relationship['In a Relationship']\n",
    "df['Engaged'] = dict_relationship['Engaged']\n",
    "df['Married'] = dict_relationship['Married']\n",
    "df['High School'] = dict_education['High School']\n",
    "df['University'] = dict_education['University']\n",
    "df['University (postgraduate)'] = dict_education['University (postgraduate)']\n",
    "df['Top Categories'] = Top_Categories\n",
    "df['Page Likes'] = Likes\n",
    "df['Location'] = locations_array"
   ]
  },
  {
   "cell_type": "code",
   "execution_count": null,
   "metadata": {
    "collapsed": true
   },
   "outputs": [],
   "source": []
  }
 ],
 "metadata": {
  "kernelspec": {
   "display_name": "Python 3",
   "language": "python",
   "name": "python3"
  },
  "language_info": {
   "codemirror_mode": {
    "name": "ipython",
    "version": 3
   },
   "file_extension": ".py",
   "mimetype": "text/x-python",
   "name": "python",
   "nbconvert_exporter": "python",
   "pygments_lexer": "ipython3",
   "version": "3.6.3"
  }
 },
 "nbformat": 4,
 "nbformat_minor": 2
}
